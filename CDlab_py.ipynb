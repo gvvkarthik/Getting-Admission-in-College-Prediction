{
  "nbformat": 4,
  "nbformat_minor": 0,
  "metadata": {
    "colab": {
      "provenance": [],
      "authorship_tag": "ABX9TyOCRGnS8dshQE40ZnaPl5ed",
      "include_colab_link": true
    },
    "kernelspec": {
      "name": "python3",
      "display_name": "Python 3"
    },
    "language_info": {
      "name": "python"
    }
  },
  "cells": [
    {
      "cell_type": "markdown",
      "metadata": {
        "id": "view-in-github",
        "colab_type": "text"
      },
      "source": [
        "<a href=\"https://colab.research.google.com/github/gvvkarthik/Getting-Admission-in-College-Prediction/blob/main/CDlab_py.ipynb\" target=\"_parent\"><img src=\"https://colab.research.google.com/assets/colab-badge.svg\" alt=\"Open In Colab\"/></a>"
      ]
    },
    {
      "cell_type": "code",
      "execution_count": 7,
      "metadata": {
        "colab": {
          "base_uri": "https://localhost:8080/"
        },
        "id": "5iUdz9zxIyIX",
        "outputId": "5c385f9c-e522-405b-96a4-9f91131a8db2"
      },
      "outputs": [
        {
          "output_type": "stream",
          "name": "stdout",
          "text": [
            "Identifiers: ['my', 'Mehedi', 'My_mobile', 'num', 'but', 'i', 'use', 'my', 'laptop', 'to', 'do', 'programming', 'my']\n",
            "Operators: []\n",
            "Constants: ['34456789']\n",
            "Keywords: ['True', 'is', 'and', 'is', 'in', 'class']\n",
            "Number of Identifiers: 13\n",
            "Number of Operators: 0\n",
            "Number of Constants: 1\n",
            "Number of Keywords: 6\n",
            "Total Number of Tokens: 20\n"
          ]
        }
      ],
      "source": [
        "def analyze_code(sen):\n",
        "  keywords={\n",
        "      'and','as','assert','break','class','continue','def','del','elif','else',\n",
        "      'except','false','finally','for','from','global','if','import','in',\n",
        "      'is','lambda','None','nonlocal','not','or','pass','print','raise','return',\n",
        "      'True','try','while','yield'\n",
        "  }\n",
        "  identifiers=[]\n",
        "  operators=[]\n",
        "  constants=[]\n",
        "  found_keyword=[]\n",
        "  current_token=\"\"\n",
        "  for char in sen:\n",
        "    if char.isalnum() or char == '_':\n",
        "      current_token+= char\n",
        "    elif char.isspace():\n",
        "      if current_token:\n",
        "        if current_token.isdigit():\n",
        "          constants.append(current_token)\n",
        "        elif current_token in keywords:\n",
        "          found_keyword.append(current_token)\n",
        "        else:\n",
        "          identifiers.append(current_token)\n",
        "        current_token=''\n",
        "    elif char in \"+-/%=\":\n",
        "      operators.append(char)\n",
        "      if current_token:\n",
        "        if current_token.isdigit():\n",
        "          constants.append(current_token)\n",
        "        else:\n",
        "          identifiers.append(current_token)\n",
        "        current_token=''\n",
        "    else:\n",
        "      if current_token:\n",
        "        if current_token.isdigit():\n",
        "          constants.append(current_token)\n",
        "        elif current_token in keywords:\n",
        "          found_keyword.append(current_token)\n",
        "        else:\n",
        "          identifiers.append(current_token)\n",
        "        current_token=''\n",
        "\n",
        "  if current_token:\n",
        "    if current_token.isdigit():\n",
        "      constants.append(current_token)\n",
        "    elif current_token in keywords:\n",
        "      found_keyword.append(current_token)\n",
        "    else:\n",
        "      identifiers.append(current_token)\n",
        "  return identifiers,operators,constants,found_keyword # Moved outside the loop\n",
        "\n",
        "sen=\"my True is Mehedi and My_mobile num is 34456789 but i use my laptop to do programming in my class.\"\n",
        "result=analyze_code(sen)\n",
        "print(\"Identifiers:\",result[0])\n",
        "print(\"Operators:\",result[1])\n",
        "print(\"Constants:\",result[2])\n",
        "print(\"Keywords:\",result[3])\n",
        "a=(len(result[0]))\n",
        "print(\"Number of Identifiers:\",a)\n",
        "b=(len(result[1]))\n",
        "print(\"Number of Operators:\",b)\n",
        "c=(len(result[2]))\n",
        "print(\"Number of Constants:\",c)\n",
        "d=(len(result[3]))\n",
        "print(\"Number of Keywords:\",d)\n",
        "d=(a+b+c+d)\n",
        "print(\"Total Number of Tokens:\",d)"
      ]
    }
  ]
}